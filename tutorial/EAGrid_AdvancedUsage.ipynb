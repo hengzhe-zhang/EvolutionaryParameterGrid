{
 "cells": [
  {
   "cell_type": "markdown",
   "metadata": {
    "pycharm": {
     "name": "#%% md\n"
    }
   },
   "source": [
    "In this tutorial, we will focus on the advanced usage of the evolutionary parameter grid. The contents included in this tutorial are as follows:\n",
    "* Time limitations\n",
    "* Incremental evolution\n",
    "* Multiple processors"
   ]
  },
  {
   "cell_type": "code",
   "execution_count": 1,
   "metadata": {
    "ExecuteTime": {
     "end_time": "2020-08-22T05:14:17.896164Z",
     "start_time": "2020-08-22T05:14:16.699851Z"
    },
    "pycharm": {
     "name": "#%%\n"
    }
   },
   "outputs": [],
   "source": [
    "import importlib\n",
    "import multiprocessing\n",
    "import random\n",
    "import time\n",
    "import numpy as np\n",
    "from sklearn.datasets import load_boston\n",
    "from sklearn.model_selection import cross_val_score, ParameterGrid, RandomizedSearchCV\n",
    "from sklearn.tree import DecisionTreeRegressor\n",
    "from evolutionary_grid.EvolutionaryParameterGrid import EAParameterGrid\n",
    "\n",
    "random.seed(0)\n",
    "np.random.seed(0)\n",
    "\n",
    "X, y = load_boston(return_X_y=True)\n",
    "param_grid = {\n",
    "    \"max_depth\": np.random.randint(1, (X.shape[1] * .85), 20),\n",
    "    \"max_features\": np.random.randint(1, X.shape[1], 20),\n",
    "    \"min_samples_leaf\": [2, 3, 4, 5, 6],\n",
    "    \"criterion\": [\"mse\", \"mae\"],\n",
    "}"
   ]
  },
  {
   "cell_type": "markdown",
   "metadata": {
    "pycharm": {
     "name": "#%% md\n"
    }
   },
   "source": [
    "## Time limitations\n",
    "Firstly, we focus on the time limitation problem. As is well known that in many auto-ml tasks, time limitation is a useful restriction. For example, if we want our auto-ml task to be finished in 1 day, then we need to specify the time restriction.\n",
    "Due to the unique design of the evolutionary parameter grid, this function can be easily implemented."
   ]
  },
  {
   "cell_type": "code",
   "execution_count": 2,
   "metadata": {
    "ExecuteTime": {
     "end_time": "2020-08-22T05:14:19.929996Z",
     "start_time": "2020-08-22T05:14:17.898163Z"
    },
    "pycharm": {
     "name": "#%%\n"
    }
   },
   "outputs": [
    {
     "name": "stdout",
     "output_type": "stream",
     "text": [
      "gen\tnevals\tavg     \tstd     \tmin     \tmax     \n",
      "0  \t50    \t0.172936\t0.427611\t-2.23543\t0.521039\n",
      "1  \t50    \t0.397736\t0.11816 \t0.0286067\t0.522334\n",
      "2  \t50    \t0.476128\t0.101181\t0.156791 \t0.522334\n",
      "Wall time: 2.01 s\n"
     ]
    }
   ],
   "source": [
    "%%time\n",
    "# 2 seconds\n",
    "time_limit = 2\n",
    "end_time = time.time() + time_limit\n",
    "grid = EAParameterGrid()\n",
    "for param in grid.grid(param_grid):\n",
    "    if time.time() > end_time:\n",
    "        break\n",
    "    tree = DecisionTreeRegressor(**param, random_state=0)\n",
    "    score = cross_val_score(tree, X, y, cv=5)\n",
    "    grid.set_fitness(np.mean(score))"
   ]
  },
  {
   "cell_type": "markdown",
   "metadata": {
    "pycharm": {
     "name": "#%% md\n"
    }
   },
   "source": [
    "Although we have not finished the experiment, we still can get the parameter up to now."
   ]
  },
  {
   "cell_type": "code",
   "execution_count": 3,
   "metadata": {
    "ExecuteTime": {
     "end_time": "2020-08-22T05:14:19.967976Z",
     "start_time": "2020-08-22T05:14:19.932995Z"
    },
    "pycharm": {
     "name": "#%%\n"
    }
   },
   "outputs": [
    {
     "name": "stdout",
     "output_type": "stream",
     "text": [
      "0.5223341948032781\n"
     ]
    }
   ],
   "source": [
    "best_param = grid.best_individuals()[0]\n",
    "tree = DecisionTreeRegressor(**best_param, random_state=0)\n",
    "score = cross_val_score(tree, X, y, cv=5)\n",
    "print(np.mean(score))"
   ]
  },
  {
   "cell_type": "markdown",
   "metadata": {
    "pycharm": {
     "name": "#%% md\n"
    }
   },
   "source": [
    "## Incremental evolution\n",
    "After we finish the grid search, we may find that we are unsatisfied with the search result. Thus, we need to search on the parameter grid again. However, it is inadvisable to search from scratch because we have explored some search space. Thus, a more appropriate method is incremental evolution, i.e., evolving the new proposals based on evolution history. For the evolutionary parameter grid, this is rather simple, because all of the histories have been recorded."
   ]
  },
  {
   "cell_type": "code",
   "execution_count": 4,
   "metadata": {
    "ExecuteTime": {
     "end_time": "2020-08-22T05:14:23.474963Z",
     "start_time": "2020-08-22T05:14:19.969974Z"
    },
    "pycharm": {
     "name": "#%%\n"
    }
   },
   "outputs": [
    {
     "name": "stderr",
     "output_type": "stream",
     "text": [
      "C:\\ProgramData\\Anaconda3\\lib\\site-packages\\deap\\creator.py:141: RuntimeWarning: A class named 'FitnessMax' has already been created and it will be overwritten. Consider deleting previous creation of that class or rename it.\n",
      "  RuntimeWarning)\n",
      "C:\\ProgramData\\Anaconda3\\lib\\site-packages\\deap\\creator.py:141: RuntimeWarning: A class named 'Individual' has already been created and it will be overwritten. Consider deleting previous creation of that class or rename it.\n",
      "  RuntimeWarning)\n"
     ]
    },
    {
     "name": "stdout",
     "output_type": "stream",
     "text": [
      "gen\tnevals\tavg     \tstd     \tmin      \tmax    \n",
      "0  \t50    \t0.246747\t0.167262\t-0.220486\t0.50912\n",
      "1  \t50    \t0.407083\t0.130203\t-0.220486\t0.522334\n",
      "2  \t50    \t0.471337\t0.130051\t-0.126144\t0.522334\n",
      "3  \t50    \t0.5188  \t0.0158054\t0.41169  \t0.522334\n",
      "4  \t50    \t0.500592\t0.0812368\t0.0234607\t0.522334\n",
      "5  \t50    \t0.498683\t0.0720047\t0.11605  \t0.522334\n",
      "6  \t50    \t0.508421\t0.0605207\t0.116765 \t0.522334\n",
      "7  \t50    \t0.469123\t0.155112 \t-0.15608 \t0.522334\n",
      "8  \t50    \t0.517625\t0.0240139\t0.371285 \t0.522334\n",
      "9  \t50    \t0.485604\t0.136243 \t-0.364595\t0.522334\n",
      "10 \t50    \t0.502044\t0.0700165\t0.217832 \t0.522334\n",
      "11 \t50    \t0.495371\t0.125475 \t-0.290536\t0.522334\n",
      "12 \t50    \t0.466801\t0.170676 \t-0.290536\t0.522334\n",
      "13 \t50    \t0.480139\t0.101222 \t0.116765 \t0.522334\n",
      "14 \t50    \t0.505413\t0.0592415\t0.232679 \t0.522334\n",
      "15 \t50    \t0.480048\t0.127543 \t-0.290536\t0.522334\n",
      "16 \t50    \t0.493504\t0.12166  \t-0.290536\t0.522334\n",
      "17 \t50    \t0.502109\t0.104936 \t-0.15608 \t0.522334\n",
      "18 \t50    \t0.502689\t0.0785047\t0.116765 \t0.522334\n",
      "19 \t50    \t0.517424\t0.0252481\t0.361237 \t0.522334\n",
      "20 \t50    \t0.474927\t0.157252 \t-0.290536\t0.522334\n",
      "21 \t50    \t0.500111\t0.0685998\t0.234247 \t0.522334\n",
      "22 \t50    \t0.511425\t0.0448986\t0.269448 \t0.522334\n",
      "23 \t50    \t0.509943\t0.0441972\t0.268768 \t0.522334\n",
      "24 \t50    \t0.507345\t0.0483563\t0.269448 \t0.522334\n",
      "25 \t50    \t0.482927\t0.132161 \t-0.290536\t0.522334\n",
      "26 \t50    \t0.509081\t0.0611231\t0.116765 \t0.522334\n",
      "27 \t50    \t0.503967\t0.0764982\t0.0653721\t0.522334\n",
      "28 \t50    \t0.494719\t0.0890967\t0.116765 \t0.522334\n",
      "29 \t50    \t0.51119 \t0.0373244\t0.371285 \t0.522334\n",
      "30 \t50    \t0.514314\t0.0350387\t0.303364 \t0.522334\n",
      "31 \t50    \t0.498547\t0.0732389\t0.232679 \t0.522334\n",
      "32 \t50    \t0.447038\t0.389822 \t-2.23543 \t0.522334\n",
      "33 \t50    \t0.512205\t0.0496221\t0.268768 \t0.522334\n",
      "34 \t50    \t0.509869\t0.0575224\t0.176136 \t0.522334\n",
      "35 \t50    \t0.503728\t0.0928211\t-0.104581\t0.522334\n",
      "36 \t50    \t0.504875\t0.0805805\t0.0234607\t0.522334\n",
      "37 \t50    \t0.489361\t0.126284 \t-0.290536\t0.522334\n",
      "38 \t50    \t0.487584\t0.121652 \t-0.15608 \t0.522334\n",
      "39 \t50    \t0.484284\t0.134533 \t-0.294046\t0.522334\n",
      "40 \t50    \t0.509274\t0.0489295\t0.26094  \t0.522334\n",
      "41 \t50    \t0.507575\t0.0526177\t0.232679 \t0.522334\n",
      "42 \t50    \t0.464919\t0.169527 \t-0.290536\t0.522334\n",
      "43 \t50    \t0.498512\t0.118923 \t-0.290536\t0.522334\n",
      "44 \t50    \t0.492679\t0.124582 \t-0.290536\t0.522334\n",
      "45 \t50    \t0.507139\t0.0469642\t0.306384 \t0.522334\n",
      "46 \t50    \t0.505032\t0.0702229\t0.0790984\t0.522334\n",
      "47 \t50    \t0.477676\t0.112479 \t0.116765 \t0.522334\n",
      "48 \t50    \t0.497116\t0.102434 \t-0.063558\t0.522334\n",
      "49 \t50    \t0.51775 \t0.0320868\t0.293143 \t0.522334\n",
      "50 \t50    \t0.485376\t0.132783 \t-0.290536\t0.522334\n"
     ]
    }
   ],
   "source": [
    "history_grid = grid.history_dict\n",
    "grid = EAParameterGrid()\n",
    "grid.history_dict.update(history_grid)\n",
    "for param in grid.grid(param_grid):\n",
    "    tree = DecisionTreeRegressor(**param, random_state=0)\n",
    "    score = cross_val_score(tree, X, y, cv=5)\n",
    "    grid.set_fitness(np.mean(score))"
   ]
  },
  {
   "cell_type": "markdown",
   "metadata": {},
   "source": [
    "## Multiple processor"
   ]
  },
  {
   "cell_type": "markdown",
   "metadata": {
    "pycharm": {
     "name": "#%% md\n"
    }
   },
   "source": [
    "Nowadays, multiple processor support is the basic requirements of any machine learning packages. Most of them handle the multiple processor problem internally. This may cause some inconvenience if we want to manually dispatch the resources. Such as we want to dispatch the task to different remote computers. In contrast, the evolutionary parameter grid allows users to implement this function by user themselves. Thus, users can choose the appropriate multiple processor algorithm based on the specific property of their tasks.\n",
    "\n",
    "To use the multiple processor support, firstly, we need to state that evaluation process is processed based on batch. Subsequently, in contrast to single processor evolutionary grid, in this case, the proposal generator generates multiple proposals, and then we can send these proposals to a processor pool to simultaneously evaluate those proposals. After doing that, we need to map those evaluated results to parameters, and send them to the evolutionary grid.\n",
    "\n",
    "It should be noted that the number of proposals at each generation is equal to the population size. However, due to evolutionary grid automatically eliminating repetitive individuals, thus the number of proposals may be less than the population size."
   ]
  },
  {
   "cell_type": "code",
   "execution_count": 5,
   "metadata": {
    "ExecuteTime": {
     "end_time": "2020-08-22T05:14:26.581179Z",
     "start_time": "2020-08-22T05:14:23.476961Z"
    },
    "pycharm": {
     "name": "#%%\n"
    }
   },
   "outputs": [
    {
     "name": "stderr",
     "output_type": "stream",
     "text": [
      "C:\\ProgramData\\Anaconda3\\lib\\site-packages\\deap\\creator.py:141: RuntimeWarning: A class named 'FitnessMax' has already been created and it will be overwritten. Consider deleting previous creation of that class or rename it.\n",
      "  RuntimeWarning)\n",
      "C:\\ProgramData\\Anaconda3\\lib\\site-packages\\deap\\creator.py:141: RuntimeWarning: A class named 'Individual' has already been created and it will be overwritten. Consider deleting previous creation of that class or rename it.\n",
      "  RuntimeWarning)\n"
     ]
    },
    {
     "name": "stdout",
     "output_type": "stream",
     "text": [
      "gen\tnevals\tavg      \tstd     \tmin     \tmax    \n",
      "0  \t50    \t0.0664927\t0.596926\t-2.55928\t0.52856\n",
      "1  \t50    \t0.440414 \t0.106535\t0.13672 \t0.541591\n",
      "2  \t50    \t0.482913 \t0.106317\t0.0489679\t0.541591\n",
      "3  \t50    \t0.504207 \t0.0767082\t0.202489 \t0.541591\n",
      "4  \t50    \t0.511732 \t0.0827495\t0.180097 \t0.541591\n",
      "5  \t50    \t0.53644  \t0.0267158\t0.357141 \t0.541591\n",
      "6  \t50    \t0.526469 \t0.0750886\t0.102186 \t0.541591\n",
      "7  \t50    \t0.490479 \t0.170253 \t-0.530637\t0.541591\n",
      "8  \t50    \t0.497233 \t0.119635 \t0.00246661\t0.541591\n",
      "9  \t50    \t0.534798 \t0.0269887\t0.419505  \t0.541591\n",
      "10 \t50    \t0.508658 \t0.0905341\t0.202489  \t0.541591\n",
      "11 \t50    \t0.516521 \t0.0769312\t0.149913  \t0.541591\n",
      "12 \t50    \t0.535127 \t0.0282272\t0.366034  \t0.541591\n",
      "13 \t50    \t0.497246 \t0.125107 \t-0.0683365\t0.541591\n",
      "14 \t50    \t0.515921 \t0.153101 \t-0.548001 \t0.541591\n",
      "15 \t50    \t0.51819  \t0.0793175\t0.149913  \t0.541591\n",
      "16 \t50    \t0.527128 \t0.0589629\t0.219092  \t0.541591\n",
      "17 \t50    \t0.52316  \t0.0766338\t0.102186  \t0.541591\n",
      "18 \t50    \t0.499539 \t0.162666 \t-0.548001 \t0.541591\n",
      "19 \t50    \t0.530153 \t0.055252 \t0.202489  \t0.541591\n",
      "20 \t50    \t0.531591 \t0.0574588\t0.141454  \t0.541591\n",
      "21 \t50    \t0.537902 \t0.025823 \t0.357141  \t0.541591\n",
      "22 \t50    \t0.535725 \t0.0293108\t0.366034  \t0.541591\n",
      "23 \t50    \t0.516891 \t0.0786378\t0.102186  \t0.541591\n",
      "24 \t50    \t0.4883   \t0.134587 \t-0.00770013\t0.541591\n",
      "25 \t50    \t0.521702 \t0.0622694\t0.202489   \t0.541591\n",
      "26 \t50    \t0.519392 \t0.0824207\t0.149913   \t0.541591\n",
      "27 \t50    \t0.531566 \t0.0501584\t0.202489   \t0.541591\n",
      "28 \t50    \t0.522498 \t0.0624773\t0.202489   \t0.541591\n",
      "29 \t50    \t0.530907 \t0.0486591\t0.224934   \t0.541591\n",
      "30 \t50    \t0.486966 \t0.179455 \t-0.548001  \t0.541591\n",
      "31 \t50    \t0.520271 \t0.0686639\t0.20846    \t0.541591\n",
      "32 \t50    \t0.526547 \t0.0638109\t0.149913   \t0.541591\n",
      "33 \t50    \t0.494007 \t0.167187 \t-0.548001  \t0.541591\n",
      "34 \t50    \t0.496127 \t0.167716 \t-0.548001  \t0.541591\n",
      "35 \t50    \t0.512887 \t0.0817388\t0.202489   \t0.541591\n",
      "36 \t50    \t0.522725 \t0.0610997\t0.202489   \t0.541591\n",
      "37 \t50    \t0.521806 \t0.0694093\t0.202489   \t0.541591\n",
      "38 \t50    \t0.514008 \t0.111621 \t-0.0830248 \t0.541591\n",
      "39 \t50    \t0.531025 \t0.0484714\t0.219092   \t0.541591\n",
      "40 \t50    \t0.507775 \t0.0904818\t0.162019   \t0.541591\n",
      "41 \t50    \t0.512952 \t0.0880993\t0.102186   \t0.541591\n",
      "42 \t50    \t0.518534 \t0.0740499\t0.202489   \t0.541591\n",
      "43 \t50    \t0.530153 \t0.0577756\t0.184629   \t0.541591\n",
      "44 \t50    \t0.520254 \t0.0801354\t0.149913   \t0.541591\n",
      "45 \t50    \t0.516255 \t0.077027 \t0.202489   \t0.541591\n",
      "46 \t50    \t0.536126 \t0.0270078\t0.357141   \t0.541591\n",
      "47 \t50    \t0.530446 \t0.0443653\t0.316626   \t0.541591\n",
      "48 \t50    \t0.514516 \t0.0945423\t0.00246661 \t0.541591\n",
      "49 \t50    \t0.525399 \t0.087044 \t-0.0683365 \t0.541591\n",
      "50 \t50    \t0.535062 \t0.0304362\t0.357141   \t0.541591\n"
     ]
    }
   ],
   "source": [
    "import multiprocessing\n",
    "p = multiprocessing.pool.ThreadPool(processes=4)\n",
    "\n",
    "\n",
    "def evaluation_fun(param):\n",
    "    tree = DecisionTreeRegressor(**param, random_state=0)\n",
    "    score = cross_val_score(tree, X, y, cv=5)\n",
    "    return np.mean(score)\n",
    "\n",
    "\n",
    "grid = EAParameterGrid(batch_evaluate=True)\n",
    "for params in grid.grid(param_grid):\n",
    "    tasks = []\n",
    "    for param in params:\n",
    "        tasks.append((p.apply_async(evaluation_fun, args=(param, )), param))\n",
    "    score_dict = {}\n",
    "    for task, param in tasks:\n",
    "        score_dict[str(param)] = task.get()\n",
    "    grid.set_fitness(score_dict)"
   ]
  }
 ],
 "metadata": {
  "kernelspec": {
   "display_name": "Python 3",
   "language": "python",
   "name": "python3"
  },
  "language_info": {
   "codemirror_mode": {
    "name": "ipython",
    "version": 3
   },
   "file_extension": ".py",
   "mimetype": "text/x-python",
   "name": "python",
   "nbconvert_exporter": "python",
   "pygments_lexer": "ipython3",
   "version": "3.7.6"
  },
  "toc": {
   "base_numbering": 1,
   "nav_menu": {},
   "number_sections": true,
   "sideBar": true,
   "skip_h1_title": false,
   "title_cell": "Table of Contents",
   "title_sidebar": "Contents",
   "toc_cell": false,
   "toc_position": {},
   "toc_section_display": true,
   "toc_window_display": false
  },
  "varInspector": {
   "cols": {
    "lenName": 16,
    "lenType": 16,
    "lenVar": 40
   },
   "kernels_config": {
    "python": {
     "delete_cmd_postfix": "",
     "delete_cmd_prefix": "del ",
     "library": "var_list.py",
     "varRefreshCmd": "print(var_dic_list())"
    },
    "r": {
     "delete_cmd_postfix": ") ",
     "delete_cmd_prefix": "rm(",
     "library": "var_list.r",
     "varRefreshCmd": "cat(var_dic_list()) "
    }
   },
   "types_to_exclude": [
    "module",
    "function",
    "builtin_function_or_method",
    "instance",
    "_Feature"
   ],
   "window_display": false
  }
 },
 "nbformat": 4,
 "nbformat_minor": 1
}
