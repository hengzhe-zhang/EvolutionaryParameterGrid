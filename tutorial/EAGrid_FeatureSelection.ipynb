{
 "cells": [
  {
   "cell_type": "markdown",
   "metadata": {
    "pycharm": {
     "name": "#%% md\n"
    }
   },
   "source": [
    "Feature selection is a critical problem in the machine learning domain. Although a lot of algorithms can select a subset of features properly, most of them are local search methods, i.e. , sequentially delete redundant features. One obvious problem of these methods is that it can not well deal with the situation when two important features work together. Thus, a global search method is much better when we have enough computation resources.\n",
    "\n",
    "In this tutorial, we demonstrate an example of using the evolutionary parameter grid to solve the feature selection problem."
   ]
  },
  {
   "cell_type": "markdown",
   "metadata": {
    "pycharm": {
     "name": "#%% md\n"
    }
   },
   "source": [
    "Firstly, we need to load the experimental dataset and to define the search space. In the feature selection context, the search space is defined as the all possible combination of features."
   ]
  },
  {
   "cell_type": "code",
   "execution_count": 1,
   "metadata": {
    "ExecuteTime": {
     "end_time": "2020-08-22T11:15:31.161959Z",
     "start_time": "2020-08-22T11:15:29.953739Z"
    },
    "pycharm": {
     "name": "#%%\n"
    }
   },
   "outputs": [],
   "source": [
    "import random\n",
    "import numpy as np\n",
    "from sklearn.datasets import load_boston\n",
    "from sklearn.feature_selection import RFE, RFECV\n",
    "from sklearn.model_selection import cross_val_score, ParameterGrid, RandomizedSearchCV\n",
    "from sklearn.tree import DecisionTreeRegressor\n",
    "from evolutionary_grid.EvolutionaryParameterGrid import EAParameterGrid\n",
    "\n",
    "random.seed(0)\n",
    "np.random.seed(0)\n",
    "\n",
    "X, y = load_boston(return_X_y=True)\n",
    "param_grid = {i: [0, 1] for i in range(0, X.shape[1])}"
   ]
  },
  {
   "cell_type": "markdown",
   "metadata": {
    "pycharm": {
     "name": "#%% md\n"
    }
   },
   "source": [
    "After defining the search space, we can use the evolutionary parameter grid to search for the best feature combination."
   ]
  },
  {
   "cell_type": "code",
   "execution_count": 2,
   "metadata": {
    "ExecuteTime": {
     "end_time": "2020-08-22T11:15:35.397231Z",
     "start_time": "2020-08-22T11:15:31.163958Z"
    },
    "pycharm": {
     "name": "#%%\n"
    }
   },
   "outputs": [
    {
     "name": "stdout",
     "output_type": "stream",
     "text": [
      "gen\tnevals\tavg      \tstd     \tmin     \tmax     \n",
      "0  \t50    \t-0.471925\t0.854812\t-2.70684\t0.343539\n",
      "1  \t50    \t0.12145  \t0.594852\t-3.5049 \t0.399196\n",
      "2  \t50    \t0.305183 \t0.116072\t-0.0294227\t0.451824\n",
      "3  \t50    \t0.35572  \t0.158297\t-0.44833  \t0.451824\n",
      "4  \t50    \t0.403926 \t0.10041 \t0.107902  \t0.451824\n",
      "5  \t50    \t0.434792 \t0.0715176\t0.0374705 \t0.451824\n",
      "6  \t50    \t0.440331 \t0.051978 \t0.129272  \t0.451824\n",
      "7  \t50    \t0.381472 \t0.314724 \t-1.74677  \t0.451824\n",
      "8  \t50    \t0.423004 \t0.0759862\t0.0994232 \t0.451824\n",
      "9  \t50    \t0.419499 \t0.119304 \t-0.265396 \t0.465544\n",
      "10 \t50    \t0.363552 \t0.177005 \t-0.265396 \t0.465544\n",
      "11 \t50    \t0.407677 \t0.245077 \t-1.23243  \t0.465544\n",
      "12 \t50    \t0.386496 \t0.188441 \t-0.40633  \t0.465544\n",
      "13 \t50    \t0.436505 \t0.0866881\t0.0185817 \t0.465544\n",
      "14 \t50    \t0.416819 \t0.184955 \t-0.489309 \t0.465544\n",
      "15 \t50    \t0.425154 \t0.132511 \t-0.40633  \t0.465544\n",
      "16 \t50    \t0.452015 \t0.0541419\t0.194809  \t0.465544\n",
      "17 \t50    \t0.433233 \t0.0933886\t0.0249828 \t0.465544\n",
      "18 \t50    \t0.407202 \t0.119377 \t0.0384408 \t0.465544\n",
      "19 \t50    \t0.390874 \t0.18138  \t-0.40633  \t0.465544\n",
      "20 \t50    \t0.413955 \t0.225529 \t-1.10711  \t0.465544\n",
      "21 \t50    \t0.442574 \t0.0640547\t0.14704   \t0.465544\n",
      "22 \t50    \t0.440045 \t0.0786502\t0.143233  \t0.465544\n",
      "23 \t50    \t0.370182 \t0.340208 \t-1.88211  \t0.465544\n",
      "24 \t50    \t0.447949 \t0.0544524\t0.235509  \t0.465544\n",
      "25 \t50    \t0.437614 \t0.128931 \t-0.40633  \t0.465544\n",
      "26 \t50    \t0.37547  \t0.402874 \t-2.27928  \t0.465544\n",
      "27 \t50    \t0.412696 \t0.213636 \t-1.00405  \t0.465544\n",
      "28 \t50    \t0.335005 \t0.546702 \t-3.34893  \t0.465544\n",
      "29 \t50    \t0.425452 \t0.0982235\t0.0462834 \t0.465544\n",
      "30 \t50    \t0.36042  \t0.348028 \t-1.94565  \t0.465544\n",
      "31 \t50    \t0.446409 \t0.0731924\t0.06649   \t0.465544\n",
      "32 \t50    \t0.439702 \t0.132676 \t-0.436054 \t0.465544\n",
      "33 \t50    \t0.429684 \t0.0918617\t0.1134    \t0.465544\n",
      "34 \t50    \t0.383579 \t0.335227 \t-1.74677  \t0.465544\n",
      "35 \t50    \t0.426831 \t0.105185 \t-0.0120274\t0.465544\n",
      "36 \t50    \t0.392266 \t0.308946 \t-1.52194  \t0.465544\n",
      "37 \t50    \t0.419723 \t0.219082 \t-1.03912  \t0.465544\n",
      "38 \t50    \t0.402029 \t0.28532  \t-1.52194  \t0.465544\n",
      "39 \t50    \t0.41409  \t0.208562 \t-0.909284 \t0.465544\n",
      "40 \t50    \t0.427344 \t0.105967 \t0.0462834 \t0.465544\n",
      "41 \t50    \t0.380704 \t0.189542 \t-0.40633  \t0.465544\n",
      "42 \t50    \t0.399259 \t0.177127 \t-0.40633  \t0.465544\n",
      "43 \t50    \t0.326371 \t0.456865 \t-1.94565  \t0.465544\n",
      "44 \t50    \t0.43899  \t0.0747199\t0.194809  \t0.465544\n",
      "45 \t50    \t0.360494 \t0.292451 \t-1.21076  \t0.465544\n",
      "46 \t50    \t0.444413 \t0.0611353\t0.165126  \t0.465544\n",
      "47 \t50    \t0.441101 \t0.0770875\t0.114424  \t0.465544\n",
      "48 \t50    \t0.420036 \t0.174842 \t-0.645018 \t0.465544\n",
      "49 \t50    \t0.401865 \t0.186714 \t-0.645018 \t0.465544\n",
      "50 \t50    \t0.426016 \t0.0886534\t0.0994232 \t0.465544\n"
     ]
    }
   ],
   "source": [
    "grid = EAParameterGrid()\n",
    "for param in grid.grid(param_grid):\n",
    "    tree = DecisionTreeRegressor(random_state=0)\n",
    "    x_selected = np.delete(X, [k for k, v in param.items() if v == 0], axis=1)\n",
    "    score = cross_val_score(tree, x_selected, y, cv=5)\n",
    "    grid.set_fitness(np.mean(score))"
   ]
  },
  {
   "cell_type": "markdown",
   "metadata": {
    "pycharm": {
     "name": "#%% md\n"
    }
   },
   "source": [
    "Finally, we can see that 7 features are selected as the best feature."
   ]
  },
  {
   "cell_type": "code",
   "execution_count": 3,
   "metadata": {
    "ExecuteTime": {
     "end_time": "2020-08-22T11:15:35.410226Z",
     "start_time": "2020-08-22T11:15:35.398231Z"
    },
    "pycharm": {
     "name": "#%%\n"
    }
   },
   "outputs": [
    {
     "data": {
      "text/plain": [
       "7"
      ]
     },
     "execution_count": 3,
     "metadata": {},
     "output_type": "execute_result"
    }
   ],
   "source": [
    "selected_features_num = sum(grid.best_individuals()[0].values())\n",
    "selected_features_num"
   ]
  },
  {
   "cell_type": "markdown",
   "metadata": {
    "pycharm": {
     "name": "#%% md\n"
    }
   },
   "source": [
    "Is it a good performance? We can compare our results with training on the full dataset. We can see that after feature selection, the performance has improved obviously."
   ]
  },
  {
   "cell_type": "code",
   "execution_count": 4,
   "metadata": {
    "ExecuteTime": {
     "end_time": "2020-08-22T11:15:35.465187Z",
     "start_time": "2020-08-22T11:15:35.413221Z"
    },
    "pycharm": {
     "name": "#%%\n"
    }
   },
   "outputs": [
    {
     "name": "stdout",
     "output_type": "stream",
     "text": [
      "0.15017814401747404\n"
     ]
    }
   ],
   "source": [
    "tree = DecisionTreeRegressor(random_state=0)\n",
    "score = cross_val_score(tree, X, y, cv=5)\n",
    "print(np.mean(score))"
   ]
  },
  {
   "cell_type": "markdown",
   "metadata": {},
   "source": [
    "Moreover, we also can compare the evolutionary feature selection method with other feature selection methods. In this tutorial, we will compare it with the recursive feature selection method."
   ]
  },
  {
   "cell_type": "code",
   "execution_count": 5,
   "metadata": {
    "ExecuteTime": {
     "end_time": "2020-08-22T11:15:35.650069Z",
     "start_time": "2020-08-22T11:15:35.467187Z"
    },
    "pycharm": {
     "name": "#%%\n"
    }
   },
   "outputs": [
    {
     "name": "stdout",
     "output_type": "stream",
     "text": [
      "0.16566806168325074\n"
     ]
    }
   ],
   "source": [
    "rfe = RFECV(estimator=DecisionTreeRegressor(random_state=0),\n",
    "            min_features_to_select=selected_features_num,\n",
    "            cv=5,\n",
    "            step=1)\n",
    "rfe.fit(X, y)\n",
    "tree = DecisionTreeRegressor(random_state=0)\n",
    "score = cross_val_score(tree, rfe.transform(X), y, cv=5)\n",
    "print(np.mean(score))"
   ]
  },
  {
   "cell_type": "markdown",
   "metadata": {},
   "source": [
    "Finally, we can find that, although recursive feature selection has slightly improved the performance, it is still much worse than the evolutionary based feature selection method."
   ]
  }
 ],
 "metadata": {
  "kernelspec": {
   "display_name": "Python 3",
   "language": "python",
   "name": "python3"
  },
  "language_info": {
   "codemirror_mode": {
    "name": "ipython",
    "version": 3
   },
   "file_extension": ".py",
   "mimetype": "text/x-python",
   "name": "python",
   "nbconvert_exporter": "python",
   "pygments_lexer": "ipython3",
   "version": "3.7.6"
  },
  "toc": {
   "base_numbering": 1,
   "nav_menu": {},
   "number_sections": true,
   "sideBar": true,
   "skip_h1_title": false,
   "title_cell": "Table of Contents",
   "title_sidebar": "Contents",
   "toc_cell": false,
   "toc_position": {},
   "toc_section_display": true,
   "toc_window_display": false
  },
  "varInspector": {
   "cols": {
    "lenName": 16,
    "lenType": 16,
    "lenVar": 40
   },
   "kernels_config": {
    "python": {
     "delete_cmd_postfix": "",
     "delete_cmd_prefix": "del ",
     "library": "var_list.py",
     "varRefreshCmd": "print(var_dic_list())"
    },
    "r": {
     "delete_cmd_postfix": ") ",
     "delete_cmd_prefix": "rm(",
     "library": "var_list.r",
     "varRefreshCmd": "cat(var_dic_list()) "
    }
   },
   "types_to_exclude": [
    "module",
    "function",
    "builtin_function_or_method",
    "instance",
    "_Feature"
   ],
   "window_display": false
  }
 },
 "nbformat": 4,
 "nbformat_minor": 1
}
